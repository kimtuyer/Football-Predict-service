{
 "cells": [
  {
   "cell_type": "code",
   "execution_count": 24,
   "metadata": {},
   "outputs": [],
   "source": [
    "from lightgbm import LGBMClassifier,plot_importance\n",
    "import matplotlib.pyplot as plt\n",
    "import pandas as pd\n",
    "from fractions import Fraction\n",
    "from sklearn.model_selection import train_test_split\n",
    "from sklearn.metrics import accuracy_score,recall_score,f1_score,precision_score,roc_auc_score\n",
    "from sklearn.metrics import confusion_matrix\n",
    "\n",
    "import numpy as np\n",
    "\n",
    "#data = pd.read_csv('predictR2.csv')\n",
    "#data = pd.read_csv('predictHA.csv')\n",
    "#data=pd.read_csv('epl4avg.csv')  \n",
    "#data=pd.read_csv('epl18195avg.csv')\n",
    "#data=pd.read_csv('epl18194avg.csv')\n",
    "#data=pd.read_csv('epl18193avg.csv')\n",
    "#data=pd.read_csv('epl18196avg.csv')\n",
    "#data=pd.read_csv('epl3avg.csv')\n",
    "#data=pd.read_csv('epl6avg.csv')\n",
    "#data=pd.read_csv('predictRAVG2.csv')\n",
    "#data=pd.read_csv('eplpredictR4HD.csv')\n",
    "\n",
    "#data=pd.read_csv('epl10154avg.csv')\n",
    "\n",
    "data=pd.read_csv('epl15204avg.csv')\n",
    "#data=pd.read_csv('epl14204avg.csv')\n",
    "#data=pd.read_csv('epl13204avg.csv')\n",
    "#data=pd.read_csv('epl12204avg.csv')\n",
    "#data=pd.read_csv('epl11204avg.csv')\n",
    "df = data[[\"AvgAGA\",\"AvgHGA\",\"AvgHGF\",\"AvgAGF\",\"HGA\",\"AGA\",\"HGF\",\"AGF\",\"season\",\"round\",\"Date\",\"HT\",\"AT\",\"HomeS\",\"AwayS\",\"result\",\"HTHG\",\"HTAG\",\"HTR\",\"HPL\",\"HRD\",\"HRW\",\"APL\",\"ARD\",\"ARW\",\"HSHOT\",\"ASHOT\",\"B365H\",\"B365D\",\"B365A\"]]\n",
    "#df=data[[\"HGF\",\"HGA\",\"AGF\",\"AGA\",\"B365H\",\"B365A\",\"HSHOT\",\"ASHOT\",\"result\"]]\n",
    "#X=df[['HGF','HGA','AGF','AGA','HPL','HRD','HRW','APL','ARD','ARW','B365H','B365D','B365A','HSHOT','ASHOT']]\n",
    "#X=df[['AvgAGA','AvgHGA','AvgHGF','AvgAGF','HGA','AGA','HGF','AGF','HPL','HRD','HRW','APL','ARD','ARW','B365H','B365A','HSHOT','ASHOT']]\n",
    "#'HPL','HRD','HRW','APL','ARD','ARW'  >>제외시 학습율 0.2 최대 0.5756 \n",
    "#X=df[['HPL','HRD','HRW','APL','ARD','ARW']]\n",
    "#X=df[['HGF','HGA','AGF','AGA','HSHOT','ASHOT','HPL','HRD','HRW','APL','ARD','ARW']]\n",
    "\n",
    "\n",
    "#X=df[['AvgAGA','AvgHGA','AvgHGF','B365H','B365A','HSHOT','ASHOT','HPL','HRD','HRW','APL','ARD','ARW']]\n",
    "#X=df[['HGF','HGA','AGF','AGA']]\n",
    "#X=df[['HGF','HGA','AGF','AGA','B365H','B365A','HSHOT','ASHOT','HPL','HRD','HRW','APL','ARD','ARW']]\n",
    "#X=df[['B365H','B365A','HSHOT','ASHOT','HPL','HRD','HRW','APL','ARD','ARW']]\n",
    "X=df[['AvgAGA','AvgHGA','AvgHGF','AvgAGF','HGF','HGA','AGF','AGA','B365H','B365A','HSHOT','ASHOT','HPL','HRD','HRW','APL','ARD','ARW']] #0.5839\n",
    "y=df[['result']]\n",
    "X_train,X_test,y_train,y_test=train_test_split(X,y,test_size=0.3,random_state=10)"
   ]
  },
  {
   "cell_type": "code",
   "execution_count": 18,
   "metadata": {},
   "outputs": [
    {
     "name": "stdout",
     "output_type": "stream",
     "text": [
      "[1]\tvalid_0's multi_logloss: 1.01351\n",
      "Training until validation scores don't improve for 100 rounds\n",
      "[2]\tvalid_0's multi_logloss: 0.994541\n",
      "[3]\tvalid_0's multi_logloss: 0.979949\n",
      "[4]\tvalid_0's multi_logloss: 0.970036\n",
      "[5]\tvalid_0's multi_logloss: 0.961774\n",
      "[6]\tvalid_0's multi_logloss: 0.956559\n",
      "[7]\tvalid_0's multi_logloss: 0.952659\n",
      "[8]\tvalid_0's multi_logloss: 0.949076\n",
      "[9]\tvalid_0's multi_logloss: 0.947225\n",
      "[10]\tvalid_0's multi_logloss: 0.94563\n",
      "[11]\tvalid_0's multi_logloss: 0.946776\n",
      "[12]\tvalid_0's multi_logloss: 0.94608\n",
      "[13]\tvalid_0's multi_logloss: 0.947281\n",
      "[14]\tvalid_0's multi_logloss: 0.948403\n",
      "[15]\tvalid_0's multi_logloss: 0.95036\n",
      "[16]\tvalid_0's multi_logloss: 0.95169\n",
      "[17]\tvalid_0's multi_logloss: 0.95265\n",
      "[18]\tvalid_0's multi_logloss: 0.954216\n",
      "[19]\tvalid_0's multi_logloss: 0.956241\n",
      "[20]\tvalid_0's multi_logloss: 0.957026\n",
      "[21]\tvalid_0's multi_logloss: 0.958254\n",
      "[22]\tvalid_0's multi_logloss: 0.960267\n",
      "[23]\tvalid_0's multi_logloss: 0.961555\n",
      "[24]\tvalid_0's multi_logloss: 0.96276\n",
      "[25]\tvalid_0's multi_logloss: 0.963018\n",
      "[26]\tvalid_0's multi_logloss: 0.963274\n",
      "[27]\tvalid_0's multi_logloss: 0.963895\n",
      "[28]\tvalid_0's multi_logloss: 0.965281\n",
      "[29]\tvalid_0's multi_logloss: 0.965184\n",
      "[30]\tvalid_0's multi_logloss: 0.966365\n",
      "[31]\tvalid_0's multi_logloss: 0.96712\n",
      "[32]\tvalid_0's multi_logloss: 0.969513\n",
      "[33]\tvalid_0's multi_logloss: 0.971674\n",
      "[34]\tvalid_0's multi_logloss: 0.97264\n",
      "[35]\tvalid_0's multi_logloss: 0.972562\n",
      "[36]\tvalid_0's multi_logloss: 0.973242\n",
      "[37]\tvalid_0's multi_logloss: 0.974159\n",
      "[38]\tvalid_0's multi_logloss: 0.973768\n",
      "[39]\tvalid_0's multi_logloss: 0.975837\n",
      "[40]\tvalid_0's multi_logloss: 0.977021\n",
      "[41]\tvalid_0's multi_logloss: 0.977411\n",
      "[42]\tvalid_0's multi_logloss: 0.978294\n",
      "[43]\tvalid_0's multi_logloss: 0.981461\n",
      "[44]\tvalid_0's multi_logloss: 0.98288\n",
      "[45]\tvalid_0's multi_logloss: 0.983383\n",
      "[46]\tvalid_0's multi_logloss: 0.984613\n",
      "[47]\tvalid_0's multi_logloss: 0.985863\n",
      "[48]\tvalid_0's multi_logloss: 0.988635\n",
      "[49]\tvalid_0's multi_logloss: 0.99036\n",
      "[50]\tvalid_0's multi_logloss: 0.99251\n",
      "[51]\tvalid_0's multi_logloss: 0.994951\n",
      "[52]\tvalid_0's multi_logloss: 0.995997\n",
      "[53]\tvalid_0's multi_logloss: 0.996633\n",
      "[54]\tvalid_0's multi_logloss: 0.996917\n",
      "[55]\tvalid_0's multi_logloss: 0.997354\n",
      "[56]\tvalid_0's multi_logloss: 0.997804\n",
      "[57]\tvalid_0's multi_logloss: 1.00022\n",
      "[58]\tvalid_0's multi_logloss: 1.00062\n",
      "[59]\tvalid_0's multi_logloss: 1.00142\n",
      "[60]\tvalid_0's multi_logloss: 1.00228\n",
      "[61]\tvalid_0's multi_logloss: 1.00267\n",
      "[62]\tvalid_0's multi_logloss: 1.00556\n",
      "[63]\tvalid_0's multi_logloss: 1.00558\n",
      "[64]\tvalid_0's multi_logloss: 1.00432\n",
      "[65]\tvalid_0's multi_logloss: 1.00508\n",
      "[66]\tvalid_0's multi_logloss: 1.00607\n",
      "[67]\tvalid_0's multi_logloss: 1.00758\n",
      "[68]\tvalid_0's multi_logloss: 1.00798\n",
      "[69]\tvalid_0's multi_logloss: 1.00885\n",
      "[70]\tvalid_0's multi_logloss: 1.00977\n",
      "[71]\tvalid_0's multi_logloss: 1.0121\n",
      "[72]\tvalid_0's multi_logloss: 1.01127\n",
      "[73]\tvalid_0's multi_logloss: 1.01184\n",
      "[74]\tvalid_0's multi_logloss: 1.01313\n",
      "[75]\tvalid_0's multi_logloss: 1.01431\n",
      "[76]\tvalid_0's multi_logloss: 1.01559\n",
      "[77]\tvalid_0's multi_logloss: 1.01625\n",
      "[78]\tvalid_0's multi_logloss: 1.01755\n",
      "[79]\tvalid_0's multi_logloss: 1.01928\n",
      "[80]\tvalid_0's multi_logloss: 1.02196\n",
      "[81]\tvalid_0's multi_logloss: 1.02354\n",
      "[82]\tvalid_0's multi_logloss: 1.02433\n",
      "[83]\tvalid_0's multi_logloss: 1.02617\n",
      "[84]\tvalid_0's multi_logloss: 1.02682\n",
      "[85]\tvalid_0's multi_logloss: 1.02633\n",
      "[86]\tvalid_0's multi_logloss: 1.0289\n",
      "[87]\tvalid_0's multi_logloss: 1.02909\n",
      "[88]\tvalid_0's multi_logloss: 1.02944\n",
      "[89]\tvalid_0's multi_logloss: 1.03038\n",
      "[90]\tvalid_0's multi_logloss: 1.03197\n",
      "[91]\tvalid_0's multi_logloss: 1.03296\n",
      "[92]\tvalid_0's multi_logloss: 1.03406\n",
      "[93]\tvalid_0's multi_logloss: 1.03508\n",
      "[94]\tvalid_0's multi_logloss: 1.03606\n",
      "[95]\tvalid_0's multi_logloss: 1.03851\n",
      "[96]\tvalid_0's multi_logloss: 1.03959\n",
      "[97]\tvalid_0's multi_logloss: 1.04011\n",
      "[98]\tvalid_0's multi_logloss: 1.04027\n",
      "[99]\tvalid_0's multi_logloss: 1.04146\n",
      "[100]\tvalid_0's multi_logloss: 1.04186\n",
      "[101]\tvalid_0's multi_logloss: 1.04125\n",
      "[102]\tvalid_0's multi_logloss: 1.04307\n",
      "[103]\tvalid_0's multi_logloss: 1.04342\n",
      "[104]\tvalid_0's multi_logloss: 1.0444\n",
      "[105]\tvalid_0's multi_logloss: 1.04512\n",
      "[106]\tvalid_0's multi_logloss: 1.04607\n",
      "[107]\tvalid_0's multi_logloss: 1.04707\n",
      "[108]\tvalid_0's multi_logloss: 1.0483\n",
      "[109]\tvalid_0's multi_logloss: 1.04912\n",
      "[110]\tvalid_0's multi_logloss: 1.05072\n",
      "Early stopping, best iteration is:\n",
      "[10]\tvalid_0's multi_logloss: 0.94563\n"
     ]
    }
   ],
   "source": [
    "lgb=LGBMClassifier(n_estimators=400, learning_rate=0.15,max_depth=4 )\n",
    "#learning_rate=0.1, 0.5673 , 0.01=0.5776  , 0.05=0.5797  ,0.15=0.5839  ,0.2=0.5797\n",
    "evals=[(X_test,y_test)]\n",
    "lgb.fit(X_train,y_train, early_stopping_rounds=100,eval_metric=\"logloss\",eval_set=evals,verbose=True)\n",
    "\n",
    "lgb_pred=lgb.predict(X_test)\n",
    "\n",
    "\n"
   ]
  },
  {
   "cell_type": "code",
   "execution_count": 19,
   "metadata": {},
   "outputs": [
    {
     "name": "stdout",
     "output_type": "stream",
     "text": [
      "오차행렬:\n",
      " [[ 70   0  61]\n",
      " [ 28   5  75]\n",
      " [ 33   4 207]]\n",
      "\n",
      "정확도: 0.5839\n"
     ]
    },
    {
     "ename": "TypeError",
     "evalue": "unsupported format string passed to numpy.ndarray.__format__",
     "output_type": "error",
     "traceback": [
      "\u001b[1;31m---------------------------------------------------------------------------\u001b[0m",
      "\u001b[1;31mTypeError\u001b[0m                                 Traceback (most recent call last)",
      "\u001b[1;32m<ipython-input-19-5527b79daca4>\u001b[0m in \u001b[0;36m<module>\u001b[1;34m\u001b[0m\n\u001b[0;32m     13\u001b[0m     \u001b[1;31m#print('f1: {:.4f}'.format(F1))\u001b[0m\u001b[1;33m\u001b[0m\u001b[1;33m\u001b[0m\u001b[1;33m\u001b[0m\u001b[0m\n\u001b[0;32m     14\u001b[0m     \u001b[1;31m#print('AUC: {:.4f}'.format(AUC))\u001b[0m\u001b[1;33m\u001b[0m\u001b[1;33m\u001b[0m\u001b[1;33m\u001b[0m\u001b[0m\n\u001b[1;32m---> 15\u001b[1;33m \u001b[0mget_clf_eval\u001b[0m\u001b[1;33m(\u001b[0m\u001b[0my_test\u001b[0m\u001b[1;33m,\u001b[0m\u001b[0mlgb_pred\u001b[0m\u001b[1;33m)\u001b[0m\u001b[1;33m\u001b[0m\u001b[1;33m\u001b[0m\u001b[0m\n\u001b[0m",
      "\u001b[1;32m<ipython-input-19-5527b79daca4>\u001b[0m in \u001b[0;36mget_clf_eval\u001b[1;34m(y_test, y_pred)\u001b[0m\n\u001b[0;32m      9\u001b[0m     \u001b[0mprint\u001b[0m\u001b[1;33m(\u001b[0m\u001b[1;34m'오차행렬:\\n'\u001b[0m\u001b[1;33m,\u001b[0m\u001b[0mconfusion\u001b[0m\u001b[1;33m)\u001b[0m\u001b[1;33m\u001b[0m\u001b[1;33m\u001b[0m\u001b[0m\n\u001b[0;32m     10\u001b[0m     \u001b[0mprint\u001b[0m\u001b[1;33m(\u001b[0m\u001b[1;34m'\\n정확도: {:.4f}'\u001b[0m\u001b[1;33m.\u001b[0m\u001b[0mformat\u001b[0m\u001b[1;33m(\u001b[0m\u001b[0maccuracy\u001b[0m\u001b[1;33m)\u001b[0m\u001b[1;33m)\u001b[0m\u001b[1;33m\u001b[0m\u001b[1;33m\u001b[0m\u001b[0m\n\u001b[1;32m---> 11\u001b[1;33m     \u001b[0mprint\u001b[0m\u001b[1;33m(\u001b[0m\u001b[1;34m'정밀도: {:.4f}'\u001b[0m\u001b[1;33m.\u001b[0m\u001b[0mformat\u001b[0m\u001b[1;33m(\u001b[0m\u001b[0mprecision\u001b[0m\u001b[1;33m)\u001b[0m\u001b[1;33m)\u001b[0m\u001b[1;33m\u001b[0m\u001b[1;33m\u001b[0m\u001b[0m\n\u001b[0m\u001b[0;32m     12\u001b[0m     \u001b[0mprint\u001b[0m\u001b[1;33m(\u001b[0m\u001b[1;34m'재현율: {:.4f}'\u001b[0m\u001b[1;33m.\u001b[0m\u001b[0mformat\u001b[0m\u001b[1;33m(\u001b[0m\u001b[0mrecall\u001b[0m\u001b[1;33m)\u001b[0m\u001b[1;33m)\u001b[0m\u001b[1;33m\u001b[0m\u001b[1;33m\u001b[0m\u001b[0m\n\u001b[0;32m     13\u001b[0m     \u001b[1;31m#print('f1: {:.4f}'.format(F1))\u001b[0m\u001b[1;33m\u001b[0m\u001b[1;33m\u001b[0m\u001b[1;33m\u001b[0m\u001b[0m\n",
      "\u001b[1;31mTypeError\u001b[0m: unsupported format string passed to numpy.ndarray.__format__"
     ]
    }
   ],
   "source": [
    "def get_clf_eval(y_test,y_pred):\n",
    "    confusion=confusion_matrix(y_test,y_pred)\n",
    "    accuracy=accuracy_score(y_test,y_pred)\n",
    "    precision=precision_score(y_test,y_pred, average=None)\n",
    "    recall=recall_score(y_test,y_pred,average='weighted')\n",
    "    #F1=f1_score(y_test,y_pred,average='weighted')\n",
    "    #AUC=roc_auc_score(y_test,y_pred,average='weighted')\n",
    "    \n",
    "    print('오차행렬:\\n',confusion)\n",
    "    print('\\n정확도: {:.4f}'.format(accuracy))\n",
    "    print('정밀도: {:.4f}'.format(precision))\n",
    "    print('재현율: {:.4f}'.format(recall))\n",
    "    #print('f1: {:.4f}'.format(F1))\n",
    "    #print('AUC: {:.4f}'.format(AUC))\n",
    "get_clf_eval(y_test,lgb_pred)"
   ]
  },
  {
   "cell_type": "code",
   "execution_count": 20,
   "metadata": {
    "scrolled": true
   },
   "outputs": [
    {
     "data": {
      "text/plain": [
       "<matplotlib.axes._subplots.AxesSubplot at 0x135bb4e0>"
      ]
     },
     "execution_count": 20,
     "metadata": {},
     "output_type": "execute_result"
    },
    {
     "data": {
      "image/png": "[encoded data removed]",
      "text/plain": [
       "<Figure size 720x432 with 1 Axes>"
      ]
     },
     "metadata": {
      "needs_background": "light"
     },
     "output_type": "display_data"
    }
   ],
   "source": [
    "\n",
    "fig,ax=plt.subplots(figsize=(10,6))\n",
    "plot_importance(lgb,ax=ax)"
   ]
  },
  {
   "cell_type": "code",
   "execution_count": 115,
   "metadata": {},
   "outputs": [
    {
     "data": {
      "text/plain": [
       "<lightgbm.basic.Booster at 0x16814b00>"
      ]
     },
     "execution_count": 115,
     "metadata": {},
     "output_type": "execute_result"
    }
   ],
   "source": [
    "lgb.booster_.save_model('LastModel.csv')\n",
    "#load from model:\n",
    "\n",
    "#bst = lgb.booster(model_file='mode.txt')"
   ]
  },
  {
   "cell_type": "code",
   "execution_count": 21,
   "metadata": {},
   "outputs": [
    {
     "data": {
      "text/plain": [
       "['LastModel.pkl']"
      ]
     },
     "execution_count": 21,
     "metadata": {},
     "output_type": "execute_result"
    }
   ],
   "source": [
    "#from sklearn.externals import joblib\n",
    "import joblib\n",
    "\n",
    "joblib.dump(lgb,'LastModel.pkl')"
   ]
  },
  {
   "cell_type": "code",
   "execution_count": 140,
   "metadata": {},
   "outputs": [],
   "source": [
    "obj=joblib.load('LastModel.pkl')"
   ]
  },
  {
   "cell_type": "code",
   "execution_count": 25,
   "metadata": {},
   "outputs": [],
   "source": [
    "from xgboost import plot_importance\n",
    "from xgboost import XGBClassifier\n",
    "from sklearn.model_selection import GridSearchCV"
   ]
  },
  {
   "cell_type": "code",
   "execution_count": null,
   "metadata": {},
   "outputs": [
    {
     "name": "stdout",
     "output_type": "stream",
     "text": [
      "Fitting 5 folds for each of 100 candidates, totalling 500 fits\n"
     ]
    },
    {
     "name": "stderr",
     "output_type": "stream",
     "text": [
      "[Parallel(n_jobs=-1)]: Using backend LokyBackend with 4 concurrent workers.\n",
      "[Parallel(n_jobs=-1)]: Done  42 tasks      | elapsed:   19.8s\n",
      "[Parallel(n_jobs=-1)]: Done 192 tasks      | elapsed:  2.4min\n"
     ]
    }
   ],
   "source": [
    "xgb=XGBClassifier()\n",
    "\n",
    "xgb_param_grid={\n",
    "    \n",
    "    'n_estimators':[100,200,400,600],\n",
    "    'learining_rate':[0.01,0.05,0.1,0.15,0.2],\n",
    "    'max_depth':[4,6,8,10,12],\n",
    "}\n",
    "\n",
    "xgb_grid=GridSearchCV(xgb, param_grid=xgb_param_grid,scoring=\"accuracy\",n_jobs=-1,verbose=1)\n",
    "\n",
    "\n",
    "xgb_grid.fit(X_train,y_train)\n",
    "\n"
   ]
  },
  {
   "cell_type": "code",
   "execution_count": 124,
   "metadata": {},
   "outputs": [
    {
     "name": "stdout",
     "output_type": "stream",
     "text": [
      "최고 평균 정확도 : 0.5225\n",
      "최고 파라미터 :  {'learining_rate': 0.01, 'max_depth': 4, 'n_estimators': 100}\n"
     ]
    }
   ],
   "source": [
    "print(\"최고 평균 정확도 : {0:.4f}\".format(xgb_grid.best_score_))\n",
    "print(\"최고 파라미터 : \", xgb_grid.best_params_)"
   ]
  },
  {
   "cell_type": "code",
   "execution_count": 125,
   "metadata": {},
   "outputs": [],
   "source": [
    "cv_result_df=pd.DataFrame(xgb_grid.cv_results_)\n",
    "cv_result_df.sort_values(by=['rank_test_score'],inplace=True)"
   ]
  },
  {
   "cell_type": "code",
   "execution_count": 126,
   "metadata": {},
   "outputs": [
    {
     "data": {
      "text/html": [
       "<div>\n",
       "<style scoped>\n",
       "    .dataframe tbody tr th:only-of-type {\n",
       "        vertical-align: middle;\n",
       "    }\n",
       "\n",
       "    .dataframe tbody tr th {\n",
       "        vertical-align: top;\n",
       "    }\n",
       "\n",
       "    .dataframe thead th {\n",
       "        text-align: right;\n",
       "    }\n",
       "</style>\n",
       "<table border=\"1\" class=\"dataframe\">\n",
       "  <thead>\n",
       "    <tr style=\"text-align: right;\">\n",
       "      <th></th>\n",
       "      <th>params</th>\n",
       "      <th>mean_test_score</th>\n",
       "      <th>rank_test_score</th>\n",
       "    </tr>\n",
       "  </thead>\n",
       "  <tbody>\n",
       "    <tr>\n",
       "      <th>0</th>\n",
       "      <td>{'learining_rate': 0.01, 'max_depth': 4, 'n_es...</td>\n",
       "      <td>0.522530</td>\n",
       "      <td>1</td>\n",
       "    </tr>\n",
       "    <tr>\n",
       "      <th>60</th>\n",
       "      <td>{'learining_rate': 0.15, 'max_depth': 4, 'n_es...</td>\n",
       "      <td>0.522530</td>\n",
       "      <td>1</td>\n",
       "    </tr>\n",
       "    <tr>\n",
       "      <th>20</th>\n",
       "      <td>{'learining_rate': 0.05, 'max_depth': 4, 'n_es...</td>\n",
       "      <td>0.522530</td>\n",
       "      <td>1</td>\n",
       "    </tr>\n",
       "    <tr>\n",
       "      <th>40</th>\n",
       "      <td>{'learining_rate': 0.1, 'max_depth': 4, 'n_est...</td>\n",
       "      <td>0.522530</td>\n",
       "      <td>1</td>\n",
       "    </tr>\n",
       "    <tr>\n",
       "      <th>80</th>\n",
       "      <td>{'learining_rate': 0.2, 'max_depth': 4, 'n_est...</td>\n",
       "      <td>0.522530</td>\n",
       "      <td>1</td>\n",
       "    </tr>\n",
       "    <tr>\n",
       "      <th>30</th>\n",
       "      <td>{'learining_rate': 0.05, 'max_depth': 8, 'n_es...</td>\n",
       "      <td>0.519368</td>\n",
       "      <td>6</td>\n",
       "    </tr>\n",
       "    <tr>\n",
       "      <th>50</th>\n",
       "      <td>{'learining_rate': 0.1, 'max_depth': 8, 'n_est...</td>\n",
       "      <td>0.519368</td>\n",
       "      <td>6</td>\n",
       "    </tr>\n",
       "    <tr>\n",
       "      <th>10</th>\n",
       "      <td>{'learining_rate': 0.01, 'max_depth': 8, 'n_es...</td>\n",
       "      <td>0.519368</td>\n",
       "      <td>6</td>\n",
       "    </tr>\n",
       "    <tr>\n",
       "      <th>70</th>\n",
       "      <td>{'learining_rate': 0.15, 'max_depth': 8, 'n_es...</td>\n",
       "      <td>0.519368</td>\n",
       "      <td>6</td>\n",
       "    </tr>\n",
       "    <tr>\n",
       "      <th>90</th>\n",
       "      <td>{'learining_rate': 0.2, 'max_depth': 8, 'n_est...</td>\n",
       "      <td>0.519368</td>\n",
       "      <td>6</td>\n",
       "    </tr>\n",
       "  </tbody>\n",
       "</table>\n",
       "</div>"
      ],
      "text/plain": [
       "                                               params  mean_test_score  \\\n",
       "0   {'learining_rate': 0.01, 'max_depth': 4, 'n_es...         0.522530   \n",
       "60  {'learining_rate': 0.15, 'max_depth': 4, 'n_es...         0.522530   \n",
       "20  {'learining_rate': 0.05, 'max_depth': 4, 'n_es...         0.522530   \n",
       "40  {'learining_rate': 0.1, 'max_depth': 4, 'n_est...         0.522530   \n",
       "80  {'learining_rate': 0.2, 'max_depth': 4, 'n_est...         0.522530   \n",
       "30  {'learining_rate': 0.05, 'max_depth': 8, 'n_es...         0.519368   \n",
       "50  {'learining_rate': 0.1, 'max_depth': 8, 'n_est...         0.519368   \n",
       "10  {'learining_rate': 0.01, 'max_depth': 8, 'n_es...         0.519368   \n",
       "70  {'learining_rate': 0.15, 'max_depth': 8, 'n_es...         0.519368   \n",
       "90  {'learining_rate': 0.2, 'max_depth': 8, 'n_est...         0.519368   \n",
       "\n",
       "    rank_test_score  \n",
       "0                 1  \n",
       "60                1  \n",
       "20                1  \n",
       "40                1  \n",
       "80                1  \n",
       "30                6  \n",
       "50                6  \n",
       "10                6  \n",
       "70                6  \n",
       "90                6  "
      ]
     },
     "execution_count": 126,
     "metadata": {},
     "output_type": "execute_result"
    }
   ],
   "source": [
    "cv_result_df[['params','mean_test_score','rank_test_score']].head(10)"
   ]
  },
  {
   "cell_type": "code",
   "execution_count": 71,
   "metadata": {},
   "outputs": [
    {
     "name": "stderr",
     "output_type": "stream",
     "text": [
      "E:\\Anaconda3\\lib\\site-packages\\sklearn\\utils\\validation.py:73: DataConversionWarning: A column-vector y was passed when a 1d array was expected. Please change the shape of y to (n_samples, ), for example using ravel().\n",
      "  return f(**kwargs)\n"
     ]
    },
    {
     "ename": "XGBoostError",
     "evalue": "[16:51:19] src/metric/elementwise_metric.cu:326: Check failed: preds.Size() == info.labels_.Size() (1629 vs. 543) : label and prediction size not match, hint: use merror or mlogloss for multi-class classification",
     "output_type": "error",
     "traceback": [
      "\u001b[1;31m---------------------------------------------------------------------------\u001b[0m",
      "\u001b[1;31mXGBoostError\u001b[0m                              Traceback (most recent call last)",
      "\u001b[1;32m<ipython-input-71-2a45bf720038>\u001b[0m in \u001b[0;36m<module>\u001b[1;34m\u001b[0m\n\u001b[0;32m      1\u001b[0m \u001b[0mxgb\u001b[0m\u001b[1;33m=\u001b[0m\u001b[0mXGBClassifier\u001b[0m\u001b[1;33m(\u001b[0m\u001b[0mn_estimators\u001b[0m\u001b[1;33m=\u001b[0m\u001b[1;36m400\u001b[0m\u001b[1;33m,\u001b[0m\u001b[0mlearning_rate\u001b[0m\u001b[1;33m=\u001b[0m\u001b[1;36m0.1\u001b[0m\u001b[1;33m,\u001b[0m\u001b[0mmax_depth\u001b[0m\u001b[1;33m=\u001b[0m\u001b[1;36m3\u001b[0m\u001b[1;33m)\u001b[0m\u001b[1;33m\u001b[0m\u001b[1;33m\u001b[0m\u001b[0m\n\u001b[0;32m      2\u001b[0m \u001b[0mevals\u001b[0m\u001b[1;33m=\u001b[0m\u001b[1;33m[\u001b[0m\u001b[1;33m(\u001b[0m\u001b[0mX_test\u001b[0m\u001b[1;33m,\u001b[0m\u001b[0my_test\u001b[0m\u001b[1;33m)\u001b[0m\u001b[1;33m]\u001b[0m\u001b[1;33m\u001b[0m\u001b[1;33m\u001b[0m\u001b[0m\n\u001b[1;32m----> 3\u001b[1;33m \u001b[0mxgb\u001b[0m\u001b[1;33m.\u001b[0m\u001b[0mfit\u001b[0m\u001b[1;33m(\u001b[0m\u001b[0mX_train\u001b[0m\u001b[1;33m,\u001b[0m\u001b[0my_train\u001b[0m\u001b[1;33m,\u001b[0m \u001b[0mearly_stopping_rounds\u001b[0m\u001b[1;33m=\u001b[0m\u001b[1;36m100\u001b[0m\u001b[1;33m,\u001b[0m\u001b[0meval_metric\u001b[0m\u001b[1;33m=\u001b[0m\u001b[1;34m\"logloss\"\u001b[0m\u001b[1;33m,\u001b[0m\u001b[0meval_set\u001b[0m\u001b[1;33m=\u001b[0m\u001b[0mevals\u001b[0m\u001b[1;33m,\u001b[0m\u001b[0mverbose\u001b[0m\u001b[1;33m=\u001b[0m\u001b[1;36m1\u001b[0m\u001b[1;33m)\u001b[0m\u001b[1;33m\u001b[0m\u001b[1;33m\u001b[0m\u001b[0m\n\u001b[0m\u001b[0;32m      4\u001b[0m \u001b[1;33m\u001b[0m\u001b[0m\n",
      "\u001b[1;32mE:\\Anaconda3\\lib\\site-packages\\xgboost\\sklearn.py\u001b[0m in \u001b[0;36mfit\u001b[1;34m(self, X, y, sample_weight, eval_set, eval_metric, early_stopping_rounds, verbose, xgb_model, sample_weight_eval_set, callbacks)\u001b[0m\n\u001b[0;32m    730\u001b[0m                               \u001b[0mevals_result\u001b[0m\u001b[1;33m=\u001b[0m\u001b[0mevals_result\u001b[0m\u001b[1;33m,\u001b[0m \u001b[0mobj\u001b[0m\u001b[1;33m=\u001b[0m\u001b[0mobj\u001b[0m\u001b[1;33m,\u001b[0m \u001b[0mfeval\u001b[0m\u001b[1;33m=\u001b[0m\u001b[0mfeval\u001b[0m\u001b[1;33m,\u001b[0m\u001b[1;33m\u001b[0m\u001b[1;33m\u001b[0m\u001b[0m\n\u001b[0;32m    731\u001b[0m                               \u001b[0mverbose_eval\u001b[0m\u001b[1;33m=\u001b[0m\u001b[0mverbose\u001b[0m\u001b[1;33m,\u001b[0m \u001b[0mxgb_model\u001b[0m\u001b[1;33m=\u001b[0m\u001b[0mxgb_model\u001b[0m\u001b[1;33m,\u001b[0m\u001b[1;33m\u001b[0m\u001b[1;33m\u001b[0m\u001b[0m\n\u001b[1;32m--> 732\u001b[1;33m                               callbacks=callbacks)\n\u001b[0m\u001b[0;32m    733\u001b[0m \u001b[1;33m\u001b[0m\u001b[0m\n\u001b[0;32m    734\u001b[0m         \u001b[0mself\u001b[0m\u001b[1;33m.\u001b[0m\u001b[0mobjective\u001b[0m \u001b[1;33m=\u001b[0m \u001b[0mxgb_options\u001b[0m\u001b[1;33m[\u001b[0m\u001b[1;34m\"objective\"\u001b[0m\u001b[1;33m]\u001b[0m\u001b[1;33m\u001b[0m\u001b[1;33m\u001b[0m\u001b[0m\n",
      "\u001b[1;32mE:\\Anaconda3\\lib\\site-packages\\xgboost\\training.py\u001b[0m in \u001b[0;36mtrain\u001b[1;34m(params, dtrain, num_boost_round, evals, obj, feval, maximize, early_stopping_rounds, evals_result, verbose_eval, xgb_model, callbacks, learning_rates)\u001b[0m\n\u001b[0;32m    214\u001b[0m                            \u001b[0mevals\u001b[0m\u001b[1;33m=\u001b[0m\u001b[0mevals\u001b[0m\u001b[1;33m,\u001b[0m\u001b[1;33m\u001b[0m\u001b[1;33m\u001b[0m\u001b[0m\n\u001b[0;32m    215\u001b[0m                            \u001b[0mobj\u001b[0m\u001b[1;33m=\u001b[0m\u001b[0mobj\u001b[0m\u001b[1;33m,\u001b[0m \u001b[0mfeval\u001b[0m\u001b[1;33m=\u001b[0m\u001b[0mfeval\u001b[0m\u001b[1;33m,\u001b[0m\u001b[1;33m\u001b[0m\u001b[1;33m\u001b[0m\u001b[0m\n\u001b[1;32m--> 216\u001b[1;33m                            xgb_model=xgb_model, callbacks=callbacks)\n\u001b[0m\u001b[0;32m    217\u001b[0m \u001b[1;33m\u001b[0m\u001b[0m\n\u001b[0;32m    218\u001b[0m \u001b[1;33m\u001b[0m\u001b[0m\n",
      "\u001b[1;32mE:\\Anaconda3\\lib\\site-packages\\xgboost\\training.py\u001b[0m in \u001b[0;36m_train_internal\u001b[1;34m(params, dtrain, num_boost_round, evals, obj, feval, xgb_model, callbacks)\u001b[0m\n\u001b[0;32m     82\u001b[0m         \u001b[1;31m# check evaluation result.\u001b[0m\u001b[1;33m\u001b[0m\u001b[1;33m\u001b[0m\u001b[1;33m\u001b[0m\u001b[0m\n\u001b[0;32m     83\u001b[0m         \u001b[1;32mif\u001b[0m \u001b[0mevals\u001b[0m\u001b[1;33m:\u001b[0m\u001b[1;33m\u001b[0m\u001b[1;33m\u001b[0m\u001b[0m\n\u001b[1;32m---> 84\u001b[1;33m             \u001b[0mbst_eval_set\u001b[0m \u001b[1;33m=\u001b[0m \u001b[0mbst\u001b[0m\u001b[1;33m.\u001b[0m\u001b[0meval_set\u001b[0m\u001b[1;33m(\u001b[0m\u001b[0mevals\u001b[0m\u001b[1;33m,\u001b[0m \u001b[0mi\u001b[0m\u001b[1;33m,\u001b[0m \u001b[0mfeval\u001b[0m\u001b[1;33m)\u001b[0m\u001b[1;33m\u001b[0m\u001b[1;33m\u001b[0m\u001b[0m\n\u001b[0m\u001b[0;32m     85\u001b[0m             \u001b[1;32mif\u001b[0m \u001b[0misinstance\u001b[0m\u001b[1;33m(\u001b[0m\u001b[0mbst_eval_set\u001b[0m\u001b[1;33m,\u001b[0m \u001b[0mSTRING_TYPES\u001b[0m\u001b[1;33m)\u001b[0m\u001b[1;33m:\u001b[0m\u001b[1;33m\u001b[0m\u001b[1;33m\u001b[0m\u001b[0m\n\u001b[0;32m     86\u001b[0m                 \u001b[0mmsg\u001b[0m \u001b[1;33m=\u001b[0m \u001b[0mbst_eval_set\u001b[0m\u001b[1;33m\u001b[0m\u001b[1;33m\u001b[0m\u001b[0m\n",
      "\u001b[1;32mE:\\Anaconda3\\lib\\site-packages\\xgboost\\core.py\u001b[0m in \u001b[0;36meval_set\u001b[1;34m(self, evals, iteration, feval)\u001b[0m\n\u001b[0;32m   1170\u001b[0m                                               \u001b[0mdmats\u001b[0m\u001b[1;33m,\u001b[0m \u001b[0mevnames\u001b[0m\u001b[1;33m,\u001b[0m\u001b[1;33m\u001b[0m\u001b[1;33m\u001b[0m\u001b[0m\n\u001b[0;32m   1171\u001b[0m                                               \u001b[0mc_bst_ulong\u001b[0m\u001b[1;33m(\u001b[0m\u001b[0mlen\u001b[0m\u001b[1;33m(\u001b[0m\u001b[0mevals\u001b[0m\u001b[1;33m)\u001b[0m\u001b[1;33m)\u001b[0m\u001b[1;33m,\u001b[0m\u001b[1;33m\u001b[0m\u001b[1;33m\u001b[0m\u001b[0m\n\u001b[1;32m-> 1172\u001b[1;33m                                               ctypes.byref(msg)))\n\u001b[0m\u001b[0;32m   1173\u001b[0m         \u001b[0mres\u001b[0m \u001b[1;33m=\u001b[0m \u001b[0mmsg\u001b[0m\u001b[1;33m.\u001b[0m\u001b[0mvalue\u001b[0m\u001b[1;33m.\u001b[0m\u001b[0mdecode\u001b[0m\u001b[1;33m(\u001b[0m\u001b[1;33m)\u001b[0m\u001b[1;33m\u001b[0m\u001b[1;33m\u001b[0m\u001b[0m\n\u001b[0;32m   1174\u001b[0m         \u001b[1;32mif\u001b[0m \u001b[0mfeval\u001b[0m \u001b[1;32mis\u001b[0m \u001b[1;32mnot\u001b[0m \u001b[1;32mNone\u001b[0m\u001b[1;33m:\u001b[0m\u001b[1;33m\u001b[0m\u001b[1;33m\u001b[0m\u001b[0m\n",
      "\u001b[1;32mE:\\Anaconda3\\lib\\site-packages\\xgboost\\core.py\u001b[0m in \u001b[0;36m_check_call\u001b[1;34m(ret)\u001b[0m\n\u001b[0;32m    174\u001b[0m     \"\"\"\n\u001b[0;32m    175\u001b[0m     \u001b[1;32mif\u001b[0m \u001b[0mret\u001b[0m \u001b[1;33m!=\u001b[0m \u001b[1;36m0\u001b[0m\u001b[1;33m:\u001b[0m\u001b[1;33m\u001b[0m\u001b[1;33m\u001b[0m\u001b[0m\n\u001b[1;32m--> 176\u001b[1;33m         \u001b[1;32mraise\u001b[0m \u001b[0mXGBoostError\u001b[0m\u001b[1;33m(\u001b[0m\u001b[0mpy_str\u001b[0m\u001b[1;33m(\u001b[0m\u001b[0m_LIB\u001b[0m\u001b[1;33m.\u001b[0m\u001b[0mXGBGetLastError\u001b[0m\u001b[1;33m(\u001b[0m\u001b[1;33m)\u001b[0m\u001b[1;33m)\u001b[0m\u001b[1;33m)\u001b[0m\u001b[1;33m\u001b[0m\u001b[1;33m\u001b[0m\u001b[0m\n\u001b[0m\u001b[0;32m    177\u001b[0m \u001b[1;33m\u001b[0m\u001b[0m\n\u001b[0;32m    178\u001b[0m \u001b[1;33m\u001b[0m\u001b[0m\n",
      "\u001b[1;31mXGBoostError\u001b[0m: [16:51:19] src/metric/elementwise_metric.cu:326: Check failed: preds.Size() == info.labels_.Size() (1629 vs. 543) : label and prediction size not match, hint: use merror or mlogloss for multi-class classification"
     ]
    }
   ],
   "source": [
    "xgb=XGBClassifier(n_estimators=400,learning_rate=0.1,max_depth=3)\n",
    "evals=[(X_test,y_test)]\n",
    "xgb.fit(X_train,y_train, early_stopping_rounds=100,eval_metric=\"logloss\",eval_set=evals,verbose=1)\n",
    "\n"
   ]
  },
  {
   "cell_type": "code",
   "execution_count": 128,
   "metadata": {},
   "outputs": [
    {
     "ename": "XGBoostError",
     "evalue": "need to call fit or load_model beforehand",
     "output_type": "error",
     "traceback": [
      "\u001b[1;31m---------------------------------------------------------------------------\u001b[0m",
      "\u001b[1;31mXGBoostError\u001b[0m                              Traceback (most recent call last)",
      "\u001b[1;32m<ipython-input-128-6b282313ad8c>\u001b[0m in \u001b[0;36m<module>\u001b[1;34m\u001b[0m\n\u001b[0;32m      1\u001b[0m \u001b[0mfig\u001b[0m\u001b[1;33m,\u001b[0m\u001b[0max\u001b[0m\u001b[1;33m=\u001b[0m\u001b[0mplt\u001b[0m\u001b[1;33m.\u001b[0m\u001b[0msubplots\u001b[0m\u001b[1;33m(\u001b[0m\u001b[0mfigsize\u001b[0m\u001b[1;33m=\u001b[0m\u001b[1;33m(\u001b[0m\u001b[1;36m10\u001b[0m\u001b[1;33m,\u001b[0m\u001b[1;36m6\u001b[0m\u001b[1;33m)\u001b[0m\u001b[1;33m)\u001b[0m\u001b[1;33m\u001b[0m\u001b[1;33m\u001b[0m\u001b[0m\n\u001b[1;32m----> 2\u001b[1;33m \u001b[0mplot_importance\u001b[0m\u001b[1;33m(\u001b[0m\u001b[0mxgb\u001b[0m\u001b[1;33m,\u001b[0m \u001b[0max\u001b[0m\u001b[1;33m=\u001b[0m\u001b[0max\u001b[0m\u001b[1;33m)\u001b[0m\u001b[1;33m\u001b[0m\u001b[1;33m\u001b[0m\u001b[0m\n\u001b[0m",
      "\u001b[1;32mE:\\Anaconda3\\lib\\site-packages\\xgboost\\plotting.py\u001b[0m in \u001b[0;36mplot_importance\u001b[1;34m(booster, ax, height, xlim, ylim, title, xlabel, ylabel, importance_type, max_num_features, grid, show_values, **kwargs)\u001b[0m\n\u001b[0;32m     62\u001b[0m \u001b[1;33m\u001b[0m\u001b[0m\n\u001b[0;32m     63\u001b[0m     \u001b[1;32mif\u001b[0m \u001b[0misinstance\u001b[0m\u001b[1;33m(\u001b[0m\u001b[0mbooster\u001b[0m\u001b[1;33m,\u001b[0m \u001b[0mXGBModel\u001b[0m\u001b[1;33m)\u001b[0m\u001b[1;33m:\u001b[0m\u001b[1;33m\u001b[0m\u001b[1;33m\u001b[0m\u001b[0m\n\u001b[1;32m---> 64\u001b[1;33m         \u001b[0mimportance\u001b[0m \u001b[1;33m=\u001b[0m \u001b[0mbooster\u001b[0m\u001b[1;33m.\u001b[0m\u001b[0mget_booster\u001b[0m\u001b[1;33m(\u001b[0m\u001b[1;33m)\u001b[0m\u001b[1;33m.\u001b[0m\u001b[0mget_score\u001b[0m\u001b[1;33m(\u001b[0m\u001b[0mimportance_type\u001b[0m\u001b[1;33m=\u001b[0m\u001b[0mimportance_type\u001b[0m\u001b[1;33m)\u001b[0m\u001b[1;33m\u001b[0m\u001b[1;33m\u001b[0m\u001b[0m\n\u001b[0m\u001b[0;32m     65\u001b[0m     \u001b[1;32melif\u001b[0m \u001b[0misinstance\u001b[0m\u001b[1;33m(\u001b[0m\u001b[0mbooster\u001b[0m\u001b[1;33m,\u001b[0m \u001b[0mBooster\u001b[0m\u001b[1;33m)\u001b[0m\u001b[1;33m:\u001b[0m\u001b[1;33m\u001b[0m\u001b[1;33m\u001b[0m\u001b[0m\n\u001b[0;32m     66\u001b[0m         \u001b[0mimportance\u001b[0m \u001b[1;33m=\u001b[0m \u001b[0mbooster\u001b[0m\u001b[1;33m.\u001b[0m\u001b[0mget_score\u001b[0m\u001b[1;33m(\u001b[0m\u001b[0mimportance_type\u001b[0m\u001b[1;33m=\u001b[0m\u001b[0mimportance_type\u001b[0m\u001b[1;33m)\u001b[0m\u001b[1;33m\u001b[0m\u001b[1;33m\u001b[0m\u001b[0m\n",
      "\u001b[1;32mE:\\Anaconda3\\lib\\site-packages\\xgboost\\sklearn.py\u001b[0m in \u001b[0;36mget_booster\u001b[1;34m(self)\u001b[0m\n\u001b[0;32m    191\u001b[0m         \"\"\"\n\u001b[0;32m    192\u001b[0m         \u001b[1;32mif\u001b[0m \u001b[0mself\u001b[0m\u001b[1;33m.\u001b[0m\u001b[0m_Booster\u001b[0m \u001b[1;32mis\u001b[0m \u001b[1;32mNone\u001b[0m\u001b[1;33m:\u001b[0m\u001b[1;33m\u001b[0m\u001b[1;33m\u001b[0m\u001b[0m\n\u001b[1;32m--> 193\u001b[1;33m             \u001b[1;32mraise\u001b[0m \u001b[0mXGBoostError\u001b[0m\u001b[1;33m(\u001b[0m\u001b[1;34m'need to call fit or load_model beforehand'\u001b[0m\u001b[1;33m)\u001b[0m\u001b[1;33m\u001b[0m\u001b[1;33m\u001b[0m\u001b[0m\n\u001b[0m\u001b[0;32m    194\u001b[0m         \u001b[1;32mreturn\u001b[0m \u001b[0mself\u001b[0m\u001b[1;33m.\u001b[0m\u001b[0m_Booster\u001b[0m\u001b[1;33m\u001b[0m\u001b[1;33m\u001b[0m\u001b[0m\n\u001b[0;32m    195\u001b[0m \u001b[1;33m\u001b[0m\u001b[0m\n",
      "\u001b[1;31mXGBoostError\u001b[0m: need to call fit or load_model beforehand"
     ]
    },
    {
     "data": {
      "image/png": "[encoded data removed]",
      "text/plain": [
       "<Figure size 720x432 with 1 Axes>"
      ]
     },
     "metadata": {
      "needs_background": "light"
     },
     "output_type": "display_data"
    }
   ],
   "source": [
    "fig,ax=plt.subplots(figsize=(10,6))\n",
    "plot_importance(xgb, ax=ax)"
   ]
  },
  {
   "cell_type": "code",
   "execution_count": null,
   "metadata": {},
   "outputs": [],
   "source": []
  }
 ],
 "metadata": {
  "kernelspec": {
   "display_name": "Python 3",
   "language": "python",
   "name": "python3"
  },
  "language_info": {
   "codemirror_mode": {
    "name": "ipython",
    "version": 3
   },
   "file_extension": ".py",
   "mimetype": "text/x-python",
   "name": "python",
   "nbconvert_exporter": "python",
   "pygments_lexer": "ipython3",
   "version": "3.7.1"
  }
 },
 "nbformat": 4,
 "nbformat_minor": 2
}
